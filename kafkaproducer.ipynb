{
 "cells": [
  {
   "cell_type": "markdown",
   "id": "302fad39",
   "metadata": {},
   "source": [
    "# Libraries we need to this project"
   ]
  },
  {
   "cell_type": "code",
   "execution_count": 1,
   "id": "51b7419d",
   "metadata": {},
   "outputs": [
    {
     "name": "stdout",
     "output_type": "stream",
     "text": [
      "Collecting kafka-python\n",
      "  Using cached kafka_python-2.0.2-py2.py3-none-any.whl (246 kB)\n",
      "Installing collected packages: kafka-python\n",
      "Successfully installed kafka-python-2.0.2\n",
      "Note: you may need to restart the kernel to use updated packages.\n"
     ]
    }
   ],
   "source": [
    "pip install kafka-python\n",
    "pip install s3fs"
   ]
  },
  {
   "cell_type": "markdown",
   "id": "931cdb0a",
   "metadata": {},
   "source": [
    "# Import libraries"
   ]
  },
  {
   "cell_type": "code",
   "execution_count": 25,
   "id": "9bf5ae1c",
   "metadata": {},
   "outputs": [],
   "source": [
    "import pandas as pd\n",
    "from kafka import KafkaConsumer, KafkaProducer\n",
    "from time import sleep\n",
    "from json import dumps\n",
    "import json"
   ]
  },
  {
   "cell_type": "markdown",
   "id": "ed059212",
   "metadata": {},
   "source": [
    "# READ DATE FROM JSON FILE IN LOCAL MACHINE AND DISPLAY PRELIMINAR INFORMATION"
   ]
  },
  {
   "cell_type": "code",
   "execution_count": 26,
   "id": "146d6f17",
   "metadata": {},
   "outputs": [],
   "source": [
    "df = pd.read_json(\"D:\\\\BIGDATA\\\\420_D07_BB_DEVELOPPEMENT_DE_TRAITEMENTS_DISTRIBUES\\\\projet\\\\project_streaming\\\\foodsAzure.json\")"
   ]
  },
  {
   "cell_type": "code",
   "execution_count": 27,
   "id": "65bb290e",
   "metadata": {},
   "outputs": [
    {
     "data": {
      "text/html": [
       "<div>\n",
       "<style scoped>\n",
       "    .dataframe tbody tr th:only-of-type {\n",
       "        vertical-align: middle;\n",
       "    }\n",
       "\n",
       "    .dataframe tbody tr th {\n",
       "        vertical-align: top;\n",
       "    }\n",
       "\n",
       "    .dataframe thead th {\n",
       "        text-align: right;\n",
       "    }\n",
       "</style>\n",
       "<table border=\"1\" class=\"dataframe\">\n",
       "  <thead>\n",
       "    <tr style=\"text-align: right;\">\n",
       "      <th></th>\n",
       "      <th>product/productId</th>\n",
       "      <th>review/userId</th>\n",
       "      <th>review/profileName</th>\n",
       "      <th>review/helpfulness</th>\n",
       "      <th>review/score</th>\n",
       "      <th>review/time</th>\n",
       "      <th>review/summary</th>\n",
       "      <th>review/text</th>\n",
       "    </tr>\n",
       "  </thead>\n",
       "  <tbody>\n",
       "    <tr>\n",
       "      <th>0</th>\n",
       "      <td>B001E5E3AI</td>\n",
       "      <td>AKD79YTGPN91D</td>\n",
       "      <td>Dawn Michelle Bourgeois</td>\n",
       "      <td>3/3</td>\n",
       "      <td>5</td>\n",
       "      <td>1168560000</td>\n",
       "      <td>great!</td>\n",
       "      <td>I use this cereal for not only cereal, but als...</td>\n",
       "    </tr>\n",
       "    <tr>\n",
       "      <th>1</th>\n",
       "      <td>B001E5E3AI</td>\n",
       "      <td>A1ZE0VRNJU2YTC</td>\n",
       "      <td>Sheila Karron \"'bubbles'\"</td>\n",
       "      <td>3/3</td>\n",
       "      <td>5</td>\n",
       "      <td>1167782400</td>\n",
       "      <td>Yummy gluten free cereal</td>\n",
       "      <td>It evens says \"snap,crackle,pop.\" Not only is ...</td>\n",
       "    </tr>\n",
       "    <tr>\n",
       "      <th>2</th>\n",
       "      <td>B001E5E3AI</td>\n",
       "      <td>A6TOGEJT5XSCI</td>\n",
       "      <td>Grace Blue Jay</td>\n",
       "      <td>2/2</td>\n",
       "      <td>4</td>\n",
       "      <td>1290297600</td>\n",
       "      <td>Good Cereal</td>\n",
       "      <td>Erewhon crispy brown rice cereal is good.&lt;br /...</td>\n",
       "    </tr>\n",
       "    <tr>\n",
       "      <th>3</th>\n",
       "      <td>B001E5E3AI</td>\n",
       "      <td>A2LILD7EJDHSW3</td>\n",
       "      <td>Watergrrl</td>\n",
       "      <td>2/2</td>\n",
       "      <td>1</td>\n",
       "      <td>1267920000</td>\n",
       "      <td>Not a substitute for Rice Krispies unfortunately</td>\n",
       "      <td>I'm a cereal fanatic, but I've got celiac so I...</td>\n",
       "    </tr>\n",
       "    <tr>\n",
       "      <th>4</th>\n",
       "      <td>B001E5E3AI</td>\n",
       "      <td>A3IUDU10AA2R61</td>\n",
       "      <td>Allison Grover \"Reader Mom\"</td>\n",
       "      <td>2/2</td>\n",
       "      <td>4</td>\n",
       "      <td>1213920000</td>\n",
       "      <td>Love the Crispy Brown Rice!</td>\n",
       "      <td>We love this cereal - it crackles! My 2-year o...</td>\n",
       "    </tr>\n",
       "  </tbody>\n",
       "</table>\n",
       "</div>"
      ],
      "text/plain": [
       "  product/productId   review/userId           review/profileName  \\\n",
       "0        B001E5E3AI   AKD79YTGPN91D      Dawn Michelle Bourgeois   \n",
       "1        B001E5E3AI  A1ZE0VRNJU2YTC    Sheila Karron \"'bubbles'\"   \n",
       "2        B001E5E3AI   A6TOGEJT5XSCI               Grace Blue Jay   \n",
       "3        B001E5E3AI  A2LILD7EJDHSW3                    Watergrrl   \n",
       "4        B001E5E3AI  A3IUDU10AA2R61  Allison Grover \"Reader Mom\"   \n",
       "\n",
       "  review/helpfulness  review/score  review/time  \\\n",
       "0                3/3             5   1168560000   \n",
       "1                3/3             5   1167782400   \n",
       "2                2/2             4   1290297600   \n",
       "3                2/2             1   1267920000   \n",
       "4                2/2             4   1213920000   \n",
       "\n",
       "                                     review/summary  \\\n",
       "0                                            great!   \n",
       "1                          Yummy gluten free cereal   \n",
       "2                                       Good Cereal   \n",
       "3  Not a substitute for Rice Krispies unfortunately   \n",
       "4                       Love the Crispy Brown Rice!   \n",
       "\n",
       "                                         review/text  \n",
       "0  I use this cereal for not only cereal, but als...  \n",
       "1  It evens says \"snap,crackle,pop.\" Not only is ...  \n",
       "2  Erewhon crispy brown rice cereal is good.<br /...  \n",
       "3  I'm a cereal fanatic, but I've got celiac so I...  \n",
       "4  We love this cereal - it crackles! My 2-year o...  "
      ]
     },
     "execution_count": 27,
     "metadata": {},
     "output_type": "execute_result"
    }
   ],
   "source": [
    "df.head()"
   ]
  },
  {
   "cell_type": "markdown",
   "id": "1e6168a8",
   "metadata": {},
   "source": [
    "# With pandas execute some traitement in data frame.  Display again with transformations implemented."
   ]
  },
  {
   "cell_type": "code",
   "execution_count": 28,
   "id": "274b084d",
   "metadata": {},
   "outputs": [],
   "source": [
    "#Delete columns non necessary from the analysis\n",
    "df = df.drop('review/text', axis=1)\n",
    "df = df.drop('review/helpfulness',axis=1)\n",
    "\n",
    "#modify columns names\n",
    "df = df.rename(columns={'product/productId': 'productId', \n",
    "                        'review/userId': 'userId',\n",
    "                        'review/profileName': 'profileName',\n",
    "                        'review/score': 'score',\n",
    "                        'review/time': 'date_review',\n",
    "                        'review/summary': 'summary'})\n",
    "\n",
    "#transform date from linux format to datetime format and next convert to string type\n",
    "df['date_review'] = pd.to_datetime(df['date_review'], unit='s')\n",
    "df['date_review'] = df['date_review'].astype(str)\n"
   ]
  },
  {
   "cell_type": "code",
   "execution_count": 29,
   "id": "65a3821e",
   "metadata": {},
   "outputs": [
    {
     "data": {
      "text/html": [
       "<div>\n",
       "<style scoped>\n",
       "    .dataframe tbody tr th:only-of-type {\n",
       "        vertical-align: middle;\n",
       "    }\n",
       "\n",
       "    .dataframe tbody tr th {\n",
       "        vertical-align: top;\n",
       "    }\n",
       "\n",
       "    .dataframe thead th {\n",
       "        text-align: right;\n",
       "    }\n",
       "</style>\n",
       "<table border=\"1\" class=\"dataframe\">\n",
       "  <thead>\n",
       "    <tr style=\"text-align: right;\">\n",
       "      <th></th>\n",
       "      <th>productId</th>\n",
       "      <th>userId</th>\n",
       "      <th>profileName</th>\n",
       "      <th>score</th>\n",
       "      <th>date_review</th>\n",
       "      <th>summary</th>\n",
       "    </tr>\n",
       "  </thead>\n",
       "  <tbody>\n",
       "    <tr>\n",
       "      <th>0</th>\n",
       "      <td>B001E5E3AI</td>\n",
       "      <td>AKD79YTGPN91D</td>\n",
       "      <td>Dawn Michelle Bourgeois</td>\n",
       "      <td>5</td>\n",
       "      <td>2007-01-12</td>\n",
       "      <td>great!</td>\n",
       "    </tr>\n",
       "    <tr>\n",
       "      <th>1</th>\n",
       "      <td>B001E5E3AI</td>\n",
       "      <td>A1ZE0VRNJU2YTC</td>\n",
       "      <td>Sheila Karron \"'bubbles'\"</td>\n",
       "      <td>5</td>\n",
       "      <td>2007-01-03</td>\n",
       "      <td>Yummy gluten free cereal</td>\n",
       "    </tr>\n",
       "    <tr>\n",
       "      <th>2</th>\n",
       "      <td>B001E5E3AI</td>\n",
       "      <td>A6TOGEJT5XSCI</td>\n",
       "      <td>Grace Blue Jay</td>\n",
       "      <td>4</td>\n",
       "      <td>2010-11-21</td>\n",
       "      <td>Good Cereal</td>\n",
       "    </tr>\n",
       "    <tr>\n",
       "      <th>3</th>\n",
       "      <td>B001E5E3AI</td>\n",
       "      <td>A2LILD7EJDHSW3</td>\n",
       "      <td>Watergrrl</td>\n",
       "      <td>1</td>\n",
       "      <td>2010-03-07</td>\n",
       "      <td>Not a substitute for Rice Krispies unfortunately</td>\n",
       "    </tr>\n",
       "    <tr>\n",
       "      <th>4</th>\n",
       "      <td>B001E5E3AI</td>\n",
       "      <td>A3IUDU10AA2R61</td>\n",
       "      <td>Allison Grover \"Reader Mom\"</td>\n",
       "      <td>4</td>\n",
       "      <td>2008-06-20</td>\n",
       "      <td>Love the Crispy Brown Rice!</td>\n",
       "    </tr>\n",
       "  </tbody>\n",
       "</table>\n",
       "</div>"
      ],
      "text/plain": [
       "    productId          userId                  profileName  score date_review  \\\n",
       "0  B001E5E3AI   AKD79YTGPN91D      Dawn Michelle Bourgeois      5  2007-01-12   \n",
       "1  B001E5E3AI  A1ZE0VRNJU2YTC    Sheila Karron \"'bubbles'\"      5  2007-01-03   \n",
       "2  B001E5E3AI   A6TOGEJT5XSCI               Grace Blue Jay      4  2010-11-21   \n",
       "3  B001E5E3AI  A2LILD7EJDHSW3                    Watergrrl      1  2010-03-07   \n",
       "4  B001E5E3AI  A3IUDU10AA2R61  Allison Grover \"Reader Mom\"      4  2008-06-20   \n",
       "\n",
       "                                            summary  \n",
       "0                                            great!  \n",
       "1                          Yummy gluten free cereal  \n",
       "2                                       Good Cereal  \n",
       "3  Not a substitute for Rice Krispies unfortunately  \n",
       "4                       Love the Crispy Brown Rice!  "
      ]
     },
     "execution_count": 29,
     "metadata": {},
     "output_type": "execute_result"
    }
   ],
   "source": [
    "df.head()"
   ]
  },
  {
   "cell_type": "markdown",
   "id": "575cd6f7",
   "metadata": {},
   "source": [
    "#  Information relative to Kafka Producer"
   ]
  },
  {
   "cell_type": "code",
   "execution_count": 30,
   "id": "6da29350",
   "metadata": {},
   "outputs": [],
   "source": [
    "producer = KafkaProducer(bootstrap_servers=['IP.IP.IP.IP:9092'],\n",
    "                         value_serializer=lambda x:\n",
    "                         dumps(x).encode('utf-8'))"
   ]
  },
  {
   "cell_type": "code",
   "execution_count": 31,
   "id": "d4bc8a21",
   "metadata": {},
   "outputs": [],
   "source": [
    "#  Empty information in producer.\n",
    "producer.flush()"
   ]
  },
  {
   "cell_type": "code",
   "execution_count": null,
   "id": "5bec1aa1",
   "metadata": {},
   "outputs": [],
   "source": [
    "#  Producer begins to send information to producer,  sleep to simulate the streaming "
   ]
  },
  {
   "cell_type": "code",
   "execution_count": 32,
   "id": "c15fae94",
   "metadata": {},
   "outputs": [
    {
     "ename": "KeyboardInterrupt",
     "evalue": "",
     "output_type": "error",
     "traceback": [
      "\u001b[1;31m---------------------------------------------------------------------------\u001b[0m",
      "\u001b[1;31mKeyboardInterrupt\u001b[0m                         Traceback (most recent call last)",
      "Cell \u001b[1;32mIn[32], line 4\u001b[0m\n\u001b[0;32m      2\u001b[0m dict_review \u001b[38;5;241m=\u001b[39m df\u001b[38;5;241m.\u001b[39msample(\u001b[38;5;241m1\u001b[39m)\u001b[38;5;241m.\u001b[39mto_dict(orient\u001b[38;5;241m=\u001b[39m\u001b[38;5;124m'\u001b[39m\u001b[38;5;124mrecords\u001b[39m\u001b[38;5;124m'\u001b[39m)[\u001b[38;5;241m0\u001b[39m]\n\u001b[0;32m      3\u001b[0m producer\u001b[38;5;241m.\u001b[39msend(\u001b[38;5;124m'\u001b[39m\u001b[38;5;124mproject_streaming\u001b[39m\u001b[38;5;124m'\u001b[39m, value\u001b[38;5;241m=\u001b[39mdict_review)\n\u001b[1;32m----> 4\u001b[0m \u001b[43msleep\u001b[49m\u001b[43m(\u001b[49m\u001b[38;5;241;43m5\u001b[39;49m\u001b[43m)\u001b[49m\n",
      "\u001b[1;31mKeyboardInterrupt\u001b[0m: "
     ]
    }
   ],
   "source": [
    "while True:\n",
    "    dict_review = df.sample(1).to_dict(orient='records')[0]\n",
    "    producer.send('project_streaming', value=dict_review)\n",
    "    sleep(5)"
   ]
  },
  {
   "cell_type": "code",
   "execution_count": null,
   "id": "70f6dc60",
   "metadata": {},
   "outputs": [],
   "source": []
  }
 ],
 "metadata": {
  "kernelspec": {
   "display_name": "Python 3 (ipykernel)",
   "language": "python",
   "name": "python3"
  },
  "language_info": {
   "codemirror_mode": {
    "name": "ipython",
    "version": 3
   },
   "file_extension": ".py",
   "mimetype": "text/x-python",
   "name": "python",
   "nbconvert_exporter": "python",
   "pygments_lexer": "ipython3",
   "version": "3.10.9"
  }
 },
 "nbformat": 4,
 "nbformat_minor": 5
}
